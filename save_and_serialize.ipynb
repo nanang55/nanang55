{
 "cells": [
  {
   "cell_type": "markdown",
   "metadata": {
    "id": "b518b04cbfe0"
   },
   "source": [
    "##### Copyright 2020 The TensorFlow Authors."
   ]
  },
  {
   "cell_type": "code",
   "execution_count": 1,
   "metadata": {
    "cellView": "form",
    "execution": {
     "iopub.execute_input": "2020-10-02T16:38:38.891726Z",
     "iopub.status.busy": "2020-10-02T16:38:38.891146Z",
     "iopub.status.idle": "2020-10-02T16:38:38.892919Z",
     "shell.execute_reply": "2020-10-02T16:38:38.893269Z"
    },
    "id": "906e07f6e562"
   },
   "outputs": [],
   "source": [
    "#@title Licensed under the Apache License, Version 2.0 (the \"License\");\n",
    "# you may not use this file except in compliance with the License.\n",
    "# You may obtain a copy of the License at\n",
    "#\n",
    "# https://www.apache.org/licenses/LICENSE-2.0\n",
    "#\n",
    "# Unless required by applicable law or agreed to in writing, software\n",
    "# distributed under the License is distributed on an \"AS IS\" BASIS,\n",
    "# WITHOUT WARRANTIES OR CONDITIONS OF ANY KIND, either express or implied.\n",
    "# See the License for the specific language governing permissions and\n",
    "# limitations under the License."
   ]
  },
  {
   "cell_type": "markdown",
   "metadata": {
    "id": "394e705afdd5"
   },
   "source": [
    "# Save and load Keras models"
   ]
  },
  {
   "cell_type": "markdown",
   "metadata": {
    "id": "60de82f6bcea"
   },
   "source": [
    "<table class=\"tfo-notebook-buttons\" align=\"left\">\n",
    "  <td>\n",
    "    <a target=\"_blank\" href=\"https://www.tensorflow.org/guide/keras/save_and_serialize\"><img src=\"https://www.tensorflow.org/images/tf_logo_32px.png\" />View on TensorFlow.org</a>\n",
    "  </td>\n",
    "  <td>\n",
    "    <a target=\"_blank\" href=\"https://colab.research.google.com/github/tensorflow/docs/blob/snapshot-keras/site/en/guide/keras/save_and_serialize.ipynb\"><img src=\"https://www.tensorflow.org/images/colab_logo_32px.png\" />Run in Google Colab</a>\n",
    "  </td>\n",
    "  <td>\n",
    "    <a target=\"_blank\" href=\"https://github.com/keras-team/keras-io/blob/master/guides/serialization_and_saving.py\"><img src=\"https://www.tensorflow.org/images/GitHub-Mark-32px.png\" />View source on GitHub</a>\n",
    "  </td>\n",
    "  <td>\n",
    "    <a href=\"https://storage.googleapis.com/tensorflow_docs/docs/site/en/guide/keras/save_and_serialize.ipynb\"><img src=\"https://www.tensorflow.org/images/download_logo_32px.png\" />Download notebook</a>\n",
    "  </td>\n",
    "</table>"
   ]
  },
  {
   "cell_type": "markdown",
   "metadata": {
    "id": "fa3c30941890"
   },
   "source": [
    "## Introduction\n",
    "\n",
    "A Keras model consists of multiple components:\n",
    "\n",
    "- An architecture, or configuration, which specifies what layers the model\n",
    "contain, and how they're connected.\n",
    "- A set of weights values (the \"state of the model\").\n",
    "- An optimizer (defined by compiling the model).\n",
    "- A set of losses and metrics (defined by compiling the model or calling\n",
    "`add_loss()` or `add_metric()`).\n",
    "\n",
    "The Keras API makes it possible to save all of these pieces to disk at once,\n",
    "or to only selectively save some of them:\n",
    "\n",
    "- Saving everything into a single archive in the TensorFlow SavedModel format\n",
    "(or in the older Keras H5 format). This is the standard practice.\n",
    "- Saving the architecture / configuration only, typically as a JSON file.\n",
    "- Saving the weights values only. This is generally used when training the model.\n",
    "\n",
    "Let's take a look at each of these options: when would you use one or the other?\n",
    "How do they work?"
   ]
  },
  {
   "cell_type": "markdown",
   "metadata": {
    "id": "feed3cb00608"
   },
   "source": [
    "## The short answer to saving & loading\n",
    "\n",
    "If you only have 10 seconds to read this guide, here's what you need to know.\n",
    "\n",
    "**Saving a Keras model:**\n",
    "\n",
    "```python\n",
    "model = ...  # Get model (Sequential, Functional Model, or Model subclass)\n",
    "model.save('path/to/location')\n",
    "```\n",
    "\n",
    "**Loading the model back:**\n",
    "\n",
    "```python\n",
    "from tensorflow import keras\n",
    "model = keras.models.load_model('path/to/location')\n",
    "```\n",
    "\n",
    "Now, let's look at the details."
   ]
  },
  {
   "cell_type": "markdown",
   "metadata": {
    "id": "41fbd6a3290a"
   },
   "source": [
    "## Setup"
   ]
  },
  {
   "cell_type": "code",
   "execution_count": 2,
   "metadata": {
    "execution": {
     "iopub.execute_input": "2020-10-02T16:38:38.897324Z",
     "iopub.status.busy": "2020-10-02T16:38:38.896754Z",
     "iopub.status.idle": "2020-10-02T16:38:44.391658Z",
     "shell.execute_reply": "2020-10-02T16:38:44.392041Z"
    },
    "id": "abff67cc7505"
   },
   "outputs": [],
   "source": [
    "import numpy as np\n",
    "import tensorflow as tf\n",
    "from tensorflow import keras"
   ]
  },
  {
   "cell_type": "markdown",
   "metadata": {
    "id": "09c134c6f58a"
   },
   "source": [
    "## Whole-model saving & loading\n",
    "\n",
    "You can save an entire model to a single artifact. It will include:\n",
    "\n",
    "- The model's architecture/config\n",
    "- The model's weight values (which were learned during training)\n",
    "- The model's compilation information (if `compile()`) was called\n",
    "- The optimizer and its state, if any (this enables you to restart training\n",
    "where you left)\n",
    "\n",
    "#### APIs\n",
    "\n",
    "- `model.save()` or `tf.keras.models.save_model()`\n",
    "- `tf.keras.models.load_model()`\n",
    "\n",
    "There are two formats you can use to save an entire model to disk:\n",
    "**the TensorFlow SavedModel format**, and **the older Keras H5 format**.\n",
    "The recommended format is SavedModel. It is the default when you use `model.save()`.\n",
    "\n",
    "You can switch to the H5 format by:\n",
    "\n",
    "- Passing `save_format='h5'` to `save()`.\n",
    "- Passing a filename that ends in `.h5` or `.keras` to `save()`."
   ]
  },
  {
   "cell_type": "markdown",
   "metadata": {
    "id": "5d260a6d0cdd"
   },
   "source": [
    "### SavedModel format\n",
    "\n",
    "**Example:**"
   ]
  },
  {
   "cell_type": "code",
   "execution_count": 3,
   "metadata": {
    "execution": {
     "iopub.execute_input": "2020-10-02T16:38:44.400395Z",
     "iopub.status.busy": "2020-10-02T16:38:44.399808Z",
     "iopub.status.idle": "2020-10-02T16:38:47.114040Z",
     "shell.execute_reply": "2020-10-02T16:38:47.114448Z"
    },
    "id": "4d910eb33378"
   },
   "outputs": [
    {
     "name": "stdout",
     "output_type": "stream",
     "text": [
      "\r",
      "1/4 [======>.......................] - ETA: 0s - loss: 0.3714"
     ]
    },
    {
     "name": "stdout",
     "output_type": "stream",
     "text": [
      "\b\b\b\b\b\b\b\b\b\b\b\b\b\b\b\b\b\b\b\b\b\b\b\b\b\b\b\b\b\b\b\b\b\b\b\b\b\b\b\b\b\b\b\b\b\b\b\b\b\b\b\b\b\b\b\b\b\b\b\b\b\r",
      "4/4 [==============================] - 0s 1ms/step - loss: 0.3312\n"
     ]
    },
    {
     "name": "stdout",
     "output_type": "stream",
     "text": [
      "WARNING:tensorflow:From /tmpfs/src/tf_docs_env/lib/python3.6/site-packages/tensorflow/python/training/tracking/tracking.py:111: Model.state_updates (from tensorflow.python.keras.engine.training) is deprecated and will be removed in a future version.\n",
      "Instructions for updating:\n",
      "This property should not be used in TensorFlow 2.0, as updates are applied automatically.\n"
     ]
    },
    {
     "name": "stdout",
     "output_type": "stream",
     "text": [
      "WARNING:tensorflow:From /tmpfs/src/tf_docs_env/lib/python3.6/site-packages/tensorflow/python/training/tracking/tracking.py:111: Layer.updates (from tensorflow.python.keras.engine.base_layer) is deprecated and will be removed in a future version.\n",
      "Instructions for updating:\n",
      "This property should not be used in TensorFlow 2.0, as updates are applied automatically.\n"
     ]
    },
    {
     "name": "stdout",
     "output_type": "stream",
     "text": [
      "INFO:tensorflow:Assets written to: my_model/assets\n"
     ]
    },
    {
     "name": "stdout",
     "output_type": "stream",
     "text": [
      "\r",
      "1/4 [======>.......................] - ETA: 0s - loss: 0.2854"
     ]
    },
    {
     "name": "stdout",
     "output_type": "stream",
     "text": [
      "\b\b\b\b\b\b\b\b\b\b\b\b\b\b\b\b\b\b\b\b\b\b\b\b\b\b\b\b\b\b\b\b\b\b\b\b\b\b\b\b\b\b\b\b\b\b\b\b\b\b\b\b\b\b\b\b\b\b\b\b\b\r",
      "4/4 [==============================] - 0s 1ms/step - loss: 0.2840\n"
     ]
    },
    {
     "data": {
      "text/plain": [
       "<tensorflow.python.keras.callbacks.History at 0x7f0fbc3f3780>"
      ]
     },
     "execution_count": 1,
     "metadata": {},
     "output_type": "execute_result"
    }
   ],
   "source": [
    "def get_model():\n",
    "    # Create a simple model.\n",
    "    inputs = keras.Input(shape=(32,))\n",
    "    outputs = keras.layers.Dense(1)(inputs)\n",
    "    model = keras.Model(inputs, outputs)\n",
    "    model.compile(optimizer=\"adam\", loss=\"mean_squared_error\")\n",
    "    return model\n",
    "\n",
    "\n",
    "model = get_model()\n",
    "\n",
    "# Train the model.\n",
    "test_input = np.random.random((128, 32))\n",
    "test_target = np.random.random((128, 1))\n",
    "model.fit(test_input, test_target)\n",
    "\n",
    "# Calling `save('my_model')` creates a SavedModel folder `my_model`.\n",
    "model.save(\"my_model\")\n",
    "\n",
    "# It can be used to reconstruct the model identically.\n",
    "reconstructed_model = keras.models.load_model(\"my_model\")\n",
    "\n",
    "# Let's check:\n",
    "np.testing.assert_allclose(\n",
    "    model.predict(test_input), reconstructed_model.predict(test_input)\n",
    ")\n",
    "\n",
    "# The reconstructed model is already compiled and has retained the optimizer\n",
    "# state, so training can resume:\n",
    "reconstructed_model.fit(test_input, test_target)"
   ]
  },
  {
   "cell_type": "markdown",
   "metadata": {
    "id": "3f8e96c8a949"
   },
   "source": [
    "#### What the SavedModel contains\n",
    "\n",
    "Calling `model.save('my_model')` creates a folder named `my_model`,\n",
    "containing the following:"
   ]
  },
  {
   "cell_type": "code",
   "execution_count": 4,
   "metadata": {
    "execution": {
     "iopub.execute_input": "2020-10-02T16:38:47.118664Z",
     "iopub.status.busy": "2020-10-02T16:38:47.117869Z",
     "iopub.status.idle": "2020-10-02T16:38:47.253370Z",
     "shell.execute_reply": "2020-10-02T16:38:47.253755Z"
    },
    "id": "47be41998ac5"
   },
   "outputs": [
    {
     "name": "stdout",
     "output_type": "stream",
     "text": [
      "assets\tsaved_model.pb\tvariables\r\n"
     ]
    }
   ],
   "source": [
    "!ls my_model"
   ]
  },
  {
   "cell_type": "markdown",
   "metadata": {
    "id": "7e9ecb6fe81a"
   },
   "source": [
    "The model architecture, and training configuration\n",
    "(including the optimizer, losses, and metrics) are stored in `saved_model.pb`.\n",
    "The weights are saved in the `variables/` directory.\n",
    "\n",
    "For detailed information on the SavedModel format, see the\n",
    "[SavedModel guide (*The SavedModel format on disk*)](\n",
    "  https://www.tensorflow.org/guide/saved_model#the_savedmodel_format_on_disk).\n",
    "\n",
    "\n",
    "#### How SavedModel handles custom objects\n",
    "\n",
    "When saving the model and its layers, the SavedModel format stores the\n",
    "class name, **call function**, losses, and weights (and the config, if implemented).\n",
    "The call function defines the computation graph of the model/layer.\n",
    "\n",
    "In the absence of the model/layer config, the call function is used to create\n",
    "a model that exists like the original model which can be trained, evaluated,\n",
    "and used for inference.\n",
    "\n",
    "Nevertheless, it is always a good practice to define the `get_config`\n",
    "and `from_config` methods when writing a custom model or layer class.\n",
    "This allows you to easily update the computation later if needed.\n",
    "See the section about [Custom objects](save_and_serialize.ipynb#custom-objects)\n",
    "for more information.\n",
    "\n",
    "Below is an example of what happens when loading custom layers from\n",
    "he SavedModel format **without** overwriting the config methods."
   ]
  },
  {
   "cell_type": "code",
   "execution_count": 5,
   "metadata": {
    "execution": {
     "iopub.execute_input": "2020-10-02T16:38:47.264428Z",
     "iopub.status.busy": "2020-10-02T16:38:47.263592Z",
     "iopub.status.idle": "2020-10-02T16:38:47.569029Z",
     "shell.execute_reply": "2020-10-02T16:38:47.569420Z"
    },
    "id": "8c5be8eb50e5"
   },
   "outputs": [
    {
     "name": "stdout",
     "output_type": "stream",
     "text": [
      "INFO:tensorflow:Assets written to: my_model/assets\n"
     ]
    },
    {
     "name": "stdout",
     "output_type": "stream",
     "text": [
      "WARNING:tensorflow:No training configuration found in save file, so the model was *not* compiled. Compile it manually.\n"
     ]
    },
    {
     "name": "stdout",
     "output_type": "stream",
     "text": [
      "Original model: <__main__.CustomModel object at 0x7f0fbc3f8208>\n",
      "Loaded model: <tensorflow.python.keras.saving.saved_model.load.CustomModel object at 0x7f1031981518>\n"
     ]
    }
   ],
   "source": [
    "class CustomModel(keras.Model):\n",
    "    def __init__(self, hidden_units):\n",
    "        super(CustomModel, self).__init__()\n",
    "        self.dense_layers = [keras.layers.Dense(u) for u in hidden_units]\n",
    "\n",
    "    def call(self, inputs):\n",
    "        x = inputs\n",
    "        for layer in self.dense_layers:\n",
    "            x = layer(x)\n",
    "        return x\n",
    "\n",
    "\n",
    "model = CustomModel([16, 16, 10])\n",
    "# Build the model by calling it\n",
    "input_arr = tf.random.uniform((1, 5))\n",
    "outputs = model(input_arr)\n",
    "model.save(\"my_model\")\n",
    "\n",
    "# Delete the custom-defined model class to ensure that the loader does not have\n",
    "# access to it.\n",
    "del CustomModel\n",
    "\n",
    "loaded = keras.models.load_model(\"my_model\")\n",
    "np.testing.assert_allclose(loaded(input_arr), outputs)\n",
    "\n",
    "print(\"Original model:\", model)\n",
    "print(\"Loaded model:\", loaded)"
   ]
  },
  {
   "cell_type": "markdown",
   "metadata": {
    "id": "b799483e35e5"
   },
   "source": [
    "As seen in the example above, the loader dynamically creates a new model class\n",
    "that acts like the original model."
   ]
  },
  {
   "cell_type": "markdown",
   "metadata": {
    "id": "9ce118f08539"
   },
   "source": [
    "### Keras H5 format\n",
    "\n",
    "Keras also supports saving a single HDF5 file containing the model's architecture,\n",
    "weights values, and `compile()` information.\n",
    "It is a light-weight alternative to SavedModel.\n",
    "\n",
    "**Example:**"
   ]
  },
  {
   "cell_type": "code",
   "execution_count": 6,
   "metadata": {
    "execution": {
     "iopub.execute_input": "2020-10-02T16:38:47.576722Z",
     "iopub.status.busy": "2020-10-02T16:38:47.576053Z",
     "iopub.status.idle": "2020-10-02T16:38:48.022430Z",
     "shell.execute_reply": "2020-10-02T16:38:48.022862Z"
    },
    "id": "5a0dfcf90f17"
   },
   "outputs": [
    {
     "name": "stdout",
     "output_type": "stream",
     "text": [
      "\r",
      "1/4 [======>.......................] - ETA: 0s - loss: 0.2267"
     ]
    },
    {
     "name": "stdout",
     "output_type": "stream",
     "text": [
      "\b\b\b\b\b\b\b\b\b\b\b\b\b\b\b\b\b\b\b\b\b\b\b\b\b\b\b\b\b\b\b\b\b\b\b\b\b\b\b\b\b\b\b\b\b\b\b\b\b\b\b\b\b\b\b\b\b\b\b\b\b\r",
      "4/4 [==============================] - 0s 1ms/step - loss: 0.3771\n"
     ]
    },
    {
     "name": "stdout",
     "output_type": "stream",
     "text": [
      "\r",
      "1/4 [======>.......................] - ETA: 0s - loss: 0.3463"
     ]
    },
    {
     "name": "stdout",
     "output_type": "stream",
     "text": [
      "\b\b\b\b\b\b\b\b\b\b\b\b\b\b\b\b\b\b\b\b\b\b\b\b\b\b\b\b\b\b\b\b\b\b\b\b\b\b\b\b\b\b\b\b\b\b\b\b\b\b\b\b\b\b\b\b\b\b\b\b\b\r",
      "4/4 [==============================] - 0s 1ms/step - loss: 0.3432\n"
     ]
    },
    {
     "data": {
      "text/plain": [
       "<tensorflow.python.keras.callbacks.History at 0x7f1031030cf8>"
      ]
     },
     "execution_count": 1,
     "metadata": {},
     "output_type": "execute_result"
    }
   ],
   "source": [
    "model = get_model()\n",
    "\n",
    "# Train the model.\n",
    "test_input = np.random.random((128, 32))\n",
    "test_target = np.random.random((128, 1))\n",
    "model.fit(test_input, test_target)\n",
    "\n",
    "# Calling `save('my_model.h5')` creates a h5 file `my_model.h5`.\n",
    "model.save(\"my_h5_model.h5\")\n",
    "\n",
    "# It can be used to reconstruct the model identically.\n",
    "reconstructed_model = keras.models.load_model(\"my_h5_model.h5\")\n",
    "\n",
    "# Let's check:\n",
    "np.testing.assert_allclose(\n",
    "    model.predict(test_input), reconstructed_model.predict(test_input)\n",
    ")\n",
    "\n",
    "# The reconstructed model is already compiled and has retained the optimizer\n",
    "# state, so training can resume:\n",
    "reconstructed_model.fit(test_input, test_target)"
   ]
  },
  {
   "cell_type": "markdown",
   "metadata": {
    "id": "675baa87dfe4"
   },
   "source": [
    "#### Limitations\n",
    "\n",
    "Compared to the SavedModel format, there are two things that don't\n",
    "get included in the H5 file:\n",
    "\n",
    "- **External losses & metrics** added via `model.add_loss()`\n",
    "& `model.add_metric()` are not saved (unlike SavedModel).\n",
    "If you have such losses & metrics on your model and you want to resume training,\n",
    "you need to add these losses back yourself after loading the model.\n",
    "Note that this does not apply to losses/metrics created *inside* layers via\n",
    "`self.add_loss()` & `self.add_metric()`. As long as the layer gets loaded,\n",
    "these losses & metrics are kept, since they are part of the `call` method of the layer.\n",
    "- The **computation graph of custom objects** such as custom layers\n",
    "is not included in the saved file. At loading time, Keras will need access\n",
    "to the Python classes/functions of these objects in order to reconstruct the model.\n",
    "See [Custom objects](save_and_serialize.ipynb#custom-objects).\n"
   ]
  },
  {
   "cell_type": "markdown",
   "metadata": {
    "id": "96f5daf26eb7"
   },
   "source": [
    "## Saving the architecture\n",
    "\n",
    "The model's configuration (or architecture) specifies what layers the model\n",
    "contains, and how these layers are connected*. If you have the configuration of a model,\n",
    "then the model can be created with a freshly initialized state for the weights\n",
    "and no compilation information.\n",
    "\n",
    "*Note this only applies to models defined using the functional or Sequential apis\n",
    " not subclassed models."
   ]
  },
  {
   "cell_type": "markdown",
   "metadata": {
    "id": "a45a21771bcf"
   },
   "source": [
    "### Configuration of a Sequential model or Functional API model\n",
    "\n",
    "These types of models are explicit graphs of layers: their configuration\n",
    "is always available in a structured form.\n",
    "\n",
    "#### APIs\n",
    "\n",
    "- `get_config()` and `from_config()`\n",
    "- `tf.keras.models.model_to_json()` and `tf.keras.models.model_from_json()`"
   ]
  },
  {
   "cell_type": "markdown",
   "metadata": {
    "id": "07623392f9e9"
   },
   "source": [
    "#### `get_config()` and `from_config()`\n",
    "\n",
    "Calling `config = model.get_config()` will return a Python dict containing\n",
    "the configuration of the model. The same model can then be reconstructed via\n",
    "`Sequential.from_config(config)` (for a `Sequential` model) or\n",
    "`Model.from_config(config)` (for a Functional API model).\n",
    "\n",
    "The same workflow also works for any serializable layer.\n",
    "\n",
    "**Layer example:**"
   ]
  },
  {
   "cell_type": "code",
   "execution_count": 7,
   "metadata": {
    "execution": {
     "iopub.execute_input": "2020-10-02T16:38:48.029296Z",
     "iopub.status.busy": "2020-10-02T16:38:48.028696Z",
     "iopub.status.idle": "2020-10-02T16:38:48.030552Z",
     "shell.execute_reply": "2020-10-02T16:38:48.030912Z"
    },
    "id": "0e6385d07d27"
   },
   "outputs": [],
   "source": [
    "layer = keras.layers.Dense(3, activation=\"relu\")\n",
    "layer_config = layer.get_config()\n",
    "new_layer = keras.layers.Dense.from_config(layer_config)"
   ]
  },
  {
   "cell_type": "markdown",
   "metadata": {
    "id": "ea7872aadd7d"
   },
   "source": [
    "**Sequential model example:**"
   ]
  },
  {
   "cell_type": "code",
   "execution_count": 8,
   "metadata": {
    "execution": {
     "iopub.execute_input": "2020-10-02T16:38:48.039107Z",
     "iopub.status.busy": "2020-10-02T16:38:48.038408Z",
     "iopub.status.idle": "2020-10-02T16:38:48.058226Z",
     "shell.execute_reply": "2020-10-02T16:38:48.057681Z"
    },
    "id": "36b8c6a174b5"
   },
   "outputs": [],
   "source": [
    "model = keras.Sequential([keras.Input((32,)), keras.layers.Dense(1)])\n",
    "config = model.get_config()\n",
    "new_model = keras.Sequential.from_config(config)"
   ]
  },
  {
   "cell_type": "markdown",
   "metadata": {
    "id": "e6509757ce2b"
   },
   "source": [
    "**Functional model example:**"
   ]
  },
  {
   "cell_type": "code",
   "execution_count": 9,
   "metadata": {
    "execution": {
     "iopub.execute_input": "2020-10-02T16:38:48.064568Z",
     "iopub.status.busy": "2020-10-02T16:38:48.064002Z",
     "iopub.status.idle": "2020-10-02T16:38:48.085590Z",
     "shell.execute_reply": "2020-10-02T16:38:48.085972Z"
    },
    "id": "4f49340ff336"
   },
   "outputs": [],
   "source": [
    "inputs = keras.Input((32,))\n",
    "outputs = keras.layers.Dense(1)(inputs)\n",
    "model = keras.Model(inputs, outputs)\n",
    "config = model.get_config()\n",
    "new_model = keras.Model.from_config(config)"
   ]
  },
  {
   "cell_type": "markdown",
   "metadata": {
    "id": "a1a183180766"
   },
   "source": [
    "#### `to_json()` and `tf.keras.models.model_from_json()`\n",
    "\n",
    "This is similar to `get_config` / `from_config`, except it turns the model\n",
    "into a JSON string, which can then be loaded without the original model class.\n",
    "It is also specific to models, it isn't meant for layers.\n",
    "\n",
    "**Example:**"
   ]
  },
  {
   "cell_type": "code",
   "execution_count": 10,
   "metadata": {
    "execution": {
     "iopub.execute_input": "2020-10-02T16:38:48.093028Z",
     "iopub.status.busy": "2020-10-02T16:38:48.092488Z",
     "iopub.status.idle": "2020-10-02T16:38:48.114004Z",
     "shell.execute_reply": "2020-10-02T16:38:48.114384Z"
    },
    "id": "2b9a9bf23522"
   },
   "outputs": [],
   "source": [
    "model = keras.Sequential([keras.Input((32,)), keras.layers.Dense(1)])\n",
    "json_config = model.to_json()\n",
    "new_model = keras.models.model_from_json(json_config)"
   ]
  },
  {
   "cell_type": "markdown",
   "metadata": {
    "id": "04214f35e34e"
   },
   "source": [
    "### Custom objects\n",
    "\n",
    "**Models and layers**\n",
    "\n",
    "The architecture of subclassed models and layers are defined in the methods\n",
    "`__init__` and `call`. They are considered Python bytecode,\n",
    "which cannot be serialized into a JSON-compatible config\n",
    "-- you could try serializing the bytecode (e.g. via `pickle`),\n",
    "but it's completely unsafe and means your model cannot be loaded on a different system.\n",
    "\n",
    "In order to save/load a model with custom-defined layers, or a subclassed model,\n",
    "you should overwrite the `get_config` and optionally `from_config` methods.\n",
    "Additionally, you should use register the custom object so that Keras is aware of it.\n",
    "\n",
    "**Custom functions**\n",
    "\n",
    "Custom-defined functions (e.g. activation loss or initialization) do not need\n",
    "a `get_config` method. The function name is sufficient for loading as long\n",
    "as it is registered as a custom object.\n",
    "\n",
    "**Loading the TensorFlow graph only**\n",
    "\n",
    "It's possible to load the TensorFlow graph generated by the Keras. If you\n",
    "do so, you won't need to provide any `custom_objects`. You can do so like\n",
    "this:"
   ]
  },
  {
   "cell_type": "code",
   "execution_count": 11,
   "metadata": {
    "execution": {
     "iopub.execute_input": "2020-10-02T16:38:48.120056Z",
     "iopub.status.busy": "2020-10-02T16:38:48.119114Z",
     "iopub.status.idle": "2020-10-02T16:38:48.343927Z",
     "shell.execute_reply": "2020-10-02T16:38:48.344307Z"
    },
    "id": "7516f3fb5d3c"
   },
   "outputs": [
    {
     "name": "stdout",
     "output_type": "stream",
     "text": [
      "INFO:tensorflow:Assets written to: my_model/assets\n"
     ]
    }
   ],
   "source": [
    "model.save(\"my_model\")\n",
    "tensorflow_graph = tf.saved_model.load(\"my_model\")\n",
    "x = np.random.uniform(size=(4, 32)).astype(np.float32)\n",
    "predicted = tensorflow_graph(x).numpy()"
   ]
  },
  {
   "cell_type": "markdown",
   "metadata": {
    "id": "28e979f23c83"
   },
   "source": [
    "Note that this method has several drawbacks:\n",
    "* For traceability reasons, you should always have access to the custom\n",
    "objects that were used. You wouldn't want to put in production a model\n",
    "that you cannot re-create.\n",
    "* The object returned by `tf.saved_model.load` isn't a Keras model. So it's\n",
    "not as easy to use. For example, you won't have access to `.predict()` or `.fit()`\n",
    "\n",
    "Even if its use is discouraged, it can help you if you're in a tight spot,\n",
    "for example, if you lost the code of your custom objects or have issues\n",
    "loading the model with `tf.keras.models.load_model()`.\n",
    "\n",
    "You can find out more in\n",
    "the [page about `tf.saved_model.load`](https://www.tensorflow.org/api_docs/python/tf/saved_model/load)"
   ]
  },
  {
   "cell_type": "markdown",
   "metadata": {
    "id": "8bfb9c653b51"
   },
   "source": [
    "#### Defining the config methods\n",
    "\n",
    "Specifications:\n",
    "\n",
    "* `get_config` should return a JSON-serializable dictionary in order to be\n",
    "compatible with the Keras architecture- and model-saving APIs.\n",
    "* `from_config(config)` (`classmethod`) should return a new layer or model\n",
    "object that is created from the config.\n",
    "The default implementation returns `cls(**config)`.\n",
    "\n",
    "**Example:**"
   ]
  },
  {
   "cell_type": "code",
   "execution_count": 12,
   "metadata": {
    "execution": {
     "iopub.execute_input": "2020-10-02T16:38:48.351337Z",
     "iopub.status.busy": "2020-10-02T16:38:48.350718Z",
     "iopub.status.idle": "2020-10-02T16:38:48.354932Z",
     "shell.execute_reply": "2020-10-02T16:38:48.354516Z"
    },
    "id": "f5cb928ed5d3"
   },
   "outputs": [],
   "source": [
    "class CustomLayer(keras.layers.Layer):\n",
    "    def __init__(self, a):\n",
    "        self.var = tf.Variable(a, name=\"var_a\")\n",
    "\n",
    "    def call(self, inputs, training=False):\n",
    "        if training:\n",
    "            return inputs * self.var\n",
    "        else:\n",
    "            return inputs\n",
    "\n",
    "    def get_config(self):\n",
    "        return {\"a\": self.var.numpy()}\n",
    "\n",
    "    # There's actually no need to define `from_config` here, since returning\n",
    "    # `cls(**config)` is the default behavior.\n",
    "    @classmethod\n",
    "    def from_config(cls, config):\n",
    "        return cls(**config)\n",
    "\n",
    "\n",
    "layer = CustomLayer(5)\n",
    "layer.var.assign(2)\n",
    "\n",
    "serialized_layer = keras.layers.serialize(layer)\n",
    "new_layer = keras.layers.deserialize(\n",
    "    serialized_layer, custom_objects={\"CustomLayer\": CustomLayer}\n",
    ")"
   ]
  },
  {
   "cell_type": "markdown",
   "metadata": {
    "id": "76aeb91c0e1e"
   },
   "source": [
    "#### Registering the custom object\n",
    "\n",
    "Keras keeps a note of which class generated the config.\n",
    "From the example above, `tf.keras.layers.serialize`\n",
    "generates a serialized form of the custom layer:\n",
    "\n",
    "```\n",
    "{'class_name': 'CustomLayer', 'config': {'a': 2}}\n",
    "```\n",
    "\n",
    "Keras keeps a master list of all built-in layer, model, optimizer,\n",
    "and metric classes, which is used to find the correct class to call `from_config`.\n",
    "If the  class can't be found, then an error is raised (`Value Error: Unknown layer`).\n",
    "There are a few ways to register custom classes to this list:\n",
    "\n",
    "1. Setting `custom_objects` argument in the loading function. (see the example\n",
    "in section above \"Defining the config methods\")\n",
    "2. `tf.keras.utils.custom_object_scope` or `tf.keras.utils.CustomObjectScope`\n",
    "3. `tf.keras.utils.register_keras_serializable`"
   ]
  },
  {
   "cell_type": "markdown",
   "metadata": {
    "id": "8a757bc52a5f"
   },
   "source": [
    "#### Custom layer and function example"
   ]
  },
  {
   "cell_type": "code",
   "execution_count": 13,
   "metadata": {
    "execution": {
     "iopub.execute_input": "2020-10-02T16:38:48.365003Z",
     "iopub.status.busy": "2020-10-02T16:38:48.364431Z",
     "iopub.status.idle": "2020-10-02T16:38:48.418514Z",
     "shell.execute_reply": "2020-10-02T16:38:48.417851Z"
    },
    "id": "d714f3a99012"
   },
   "outputs": [],
   "source": [
    "class CustomLayer(keras.layers.Layer):\n",
    "    def __init__(self, units=32, **kwargs):\n",
    "        super(CustomLayer, self).__init__(**kwargs)\n",
    "        self.units = units\n",
    "\n",
    "    def build(self, input_shape):\n",
    "        self.w = self.add_weight(\n",
    "            shape=(input_shape[-1], self.units),\n",
    "            initializer=\"random_normal\",\n",
    "            trainable=True,\n",
    "        )\n",
    "        self.b = self.add_weight(\n",
    "            shape=(self.units,), initializer=\"random_normal\", trainable=True\n",
    "        )\n",
    "\n",
    "    def call(self, inputs):\n",
    "        return tf.matmul(inputs, self.w) + self.b\n",
    "\n",
    "    def get_config(self):\n",
    "        config = super(CustomLayer, self).get_config()\n",
    "        config.update({\"units\": self.units})\n",
    "        return config\n",
    "\n",
    "\n",
    "def custom_activation(x):\n",
    "    return tf.nn.tanh(x) ** 2\n",
    "\n",
    "\n",
    "# Make a model with the CustomLayer and custom_activation\n",
    "inputs = keras.Input((32,))\n",
    "x = CustomLayer(32)(inputs)\n",
    "outputs = keras.layers.Activation(custom_activation)(x)\n",
    "model = keras.Model(inputs, outputs)\n",
    "\n",
    "# Retrieve the config\n",
    "config = model.get_config()\n",
    "\n",
    "# At loading time, register the custom objects with a `custom_object_scope`:\n",
    "custom_objects = {\"CustomLayer\": CustomLayer, \"custom_activation\": custom_activation}\n",
    "with keras.utils.custom_object_scope(custom_objects):\n",
    "    new_model = keras.Model.from_config(config)"
   ]
  },
  {
   "cell_type": "markdown",
   "metadata": {
    "id": "05e02e8349c8"
   },
   "source": [
    "### In-memory model cloning\n",
    "\n",
    "You can also do in-memory cloning of a model via `tf.keras.models.clone_model()`.\n",
    "This is equivalent to getting the config then recreating the model from its config\n",
    "(so it does not preserve compilation information or layer weights values).\n",
    "\n",
    "**Example:**"
   ]
  },
  {
   "cell_type": "code",
   "execution_count": 14,
   "metadata": {
    "execution": {
     "iopub.execute_input": "2020-10-02T16:38:48.425119Z",
     "iopub.status.busy": "2020-10-02T16:38:48.423280Z",
     "iopub.status.idle": "2020-10-02T16:38:48.439087Z",
     "shell.execute_reply": "2020-10-02T16:38:48.438636Z"
    },
    "id": "812cb93a30c2"
   },
   "outputs": [],
   "source": [
    "with keras.utils.custom_object_scope(custom_objects):\n",
    "    new_model = keras.models.clone_model(model)"
   ]
  },
  {
   "cell_type": "markdown",
   "metadata": {
    "id": "1f8f862e443f"
   },
   "source": [
    "## Saving & loading only the model's weights values\n",
    "\n",
    "You can choose to only save & load a model's weights. This can be useful if:\n",
    "\n",
    "- You only need the model for inference: in this case you won't need to\n",
    "restart training, so you don't need the compilation information or optimizer state.\n",
    "- You are doing transfer learning: in this case you will be training a new model\n",
    "reusing the state of a prior model, so you don't need the compilation\n",
    "information of the prior model."
   ]
  },
  {
   "cell_type": "markdown",
   "metadata": {
    "id": "907f60d28973"
   },
   "source": [
    "### APIs for in-memory weight transfer\n",
    "\n",
    "Weights can be copied between different objects by using `get_weights`\n",
    "and `set_weights`:\n",
    "\n",
    "* `tf.keras.layers.Layer.get_weights()`: Returns a list of numpy arrays.\n",
    "* `tf.keras.layers.Layer.set_weights()`: Sets the model weights to the values\n",
    "in the `weights` argument.\n",
    "\n",
    "Examples below.\n",
    "\n",
    "\n",
    "***Transfering weights from one layer to another, in memory***"
   ]
  },
  {
   "cell_type": "code",
   "execution_count": 15,
   "metadata": {
    "execution": {
     "iopub.execute_input": "2020-10-02T16:38:48.444307Z",
     "iopub.status.busy": "2020-10-02T16:38:48.443733Z",
     "iopub.status.idle": "2020-10-02T16:38:48.451495Z",
     "shell.execute_reply": "2020-10-02T16:38:48.451046Z"
    },
    "id": "a9f78162427e"
   },
   "outputs": [],
   "source": [
    "def create_layer():\n",
    "    layer = keras.layers.Dense(64, activation=\"relu\", name=\"dense_2\")\n",
    "    layer.build((None, 784))\n",
    "    return layer\n",
    "\n",
    "\n",
    "layer_1 = create_layer()\n",
    "layer_2 = create_layer()\n",
    "\n",
    "# Copy weights from layer 2 to layer 1\n",
    "layer_2.set_weights(layer_1.get_weights())"
   ]
  },
  {
   "cell_type": "markdown",
   "metadata": {
    "id": "7e257429b186"
   },
   "source": [
    "***Transfering weights from one model to another model with a\n",
    "compatible architecture, in memory***"
   ]
  },
  {
   "cell_type": "code",
   "execution_count": 16,
   "metadata": {
    "execution": {
     "iopub.execute_input": "2020-10-02T16:38:48.462608Z",
     "iopub.status.busy": "2020-10-02T16:38:48.461995Z",
     "iopub.status.idle": "2020-10-02T16:38:48.504833Z",
     "shell.execute_reply": "2020-10-02T16:38:48.504335Z"
    },
    "id": "75be1147b413"
   },
   "outputs": [],
   "source": [
    "# Create a simple functional model\n",
    "inputs = keras.Input(shape=(784,), name=\"digits\")\n",
    "x = keras.layers.Dense(64, activation=\"relu\", name=\"dense_1\")(inputs)\n",
    "x = keras.layers.Dense(64, activation=\"relu\", name=\"dense_2\")(x)\n",
    "outputs = keras.layers.Dense(10, name=\"predictions\")(x)\n",
    "functional_model = keras.Model(inputs=inputs, outputs=outputs, name=\"3_layer_mlp\")\n",
    "\n",
    "# Define a subclassed model with the same architecture\n",
    "class SubclassedModel(keras.Model):\n",
    "    def __init__(self, output_dim, name=None):\n",
    "        super(SubclassedModel, self).__init__(name=name)\n",
    "        self.output_dim = output_dim\n",
    "        self.dense_1 = keras.layers.Dense(64, activation=\"relu\", name=\"dense_1\")\n",
    "        self.dense_2 = keras.layers.Dense(64, activation=\"relu\", name=\"dense_2\")\n",
    "        self.dense_3 = keras.layers.Dense(output_dim, name=\"predictions\")\n",
    "\n",
    "    def call(self, inputs):\n",
    "        x = self.dense_1(inputs)\n",
    "        x = self.dense_2(x)\n",
    "        x = self.dense_3(x)\n",
    "        return x\n",
    "\n",
    "    def get_config(self):\n",
    "        return {\"output_dim\": self.output_dim, \"name\": self.name}\n",
    "\n",
    "\n",
    "subclassed_model = SubclassedModel(10)\n",
    "# Call the subclassed model once to create the weights.\n",
    "subclassed_model(tf.ones((1, 784)))\n",
    "\n",
    "# Copy weights from functional_model to subclassed_model.\n",
    "subclassed_model.set_weights(functional_model.get_weights())\n",
    "\n",
    "assert len(functional_model.weights) == len(subclassed_model.weights)\n",
    "for a, b in zip(functional_model.weights, subclassed_model.weights):\n",
    "    np.testing.assert_allclose(a.numpy(), b.numpy())"
   ]
  },
  {
   "cell_type": "markdown",
   "metadata": {
    "id": "450837e1dd20"
   },
   "source": [
    "***The case of stateless layers***\n",
    "\n",
    "Because stateless layers do not change the order or number of weights,\n",
    "models can have compatible architectures even if there are extra/missing\n",
    "stateless layers."
   ]
  },
  {
   "cell_type": "code",
   "execution_count": 17,
   "metadata": {
    "execution": {
     "iopub.execute_input": "2020-10-02T16:38:48.513523Z",
     "iopub.status.busy": "2020-10-02T16:38:48.512796Z",
     "iopub.status.idle": "2020-10-02T16:38:48.568772Z",
     "shell.execute_reply": "2020-10-02T16:38:48.568224Z"
    },
    "id": "7b79e7593754"
   },
   "outputs": [],
   "source": [
    "inputs = keras.Input(shape=(784,), name=\"digits\")\n",
    "x = keras.layers.Dense(64, activation=\"relu\", name=\"dense_1\")(inputs)\n",
    "x = keras.layers.Dense(64, activation=\"relu\", name=\"dense_2\")(x)\n",
    "outputs = keras.layers.Dense(10, name=\"predictions\")(x)\n",
    "functional_model = keras.Model(inputs=inputs, outputs=outputs, name=\"3_layer_mlp\")\n",
    "\n",
    "inputs = keras.Input(shape=(784,), name=\"digits\")\n",
    "x = keras.layers.Dense(64, activation=\"relu\", name=\"dense_1\")(inputs)\n",
    "x = keras.layers.Dense(64, activation=\"relu\", name=\"dense_2\")(x)\n",
    "\n",
    "# Add a dropout layer, which does not contain any weights.\n",
    "x = keras.layers.Dropout(0.5)(x)\n",
    "outputs = keras.layers.Dense(10, name=\"predictions\")(x)\n",
    "functional_model_with_dropout = keras.Model(\n",
    "    inputs=inputs, outputs=outputs, name=\"3_layer_mlp\"\n",
    ")\n",
    "\n",
    "functional_model_with_dropout.set_weights(functional_model.get_weights())"
   ]
  },
  {
   "cell_type": "markdown",
   "metadata": {
    "id": "1e28dd5a9538"
   },
   "source": [
    "### APIs for saving weights to disk & loading them back\n",
    "\n",
    "Weights can be saved to disk by calling `model.save_weights`\n",
    "in the following formats:\n",
    "\n",
    "* TensorFlow Checkpoint\n",
    "* HDF5\n",
    "\n",
    "The default format for `model.save_weights` is TensorFlow checkpoint.\n",
    "There are two ways to specify the save format:\n",
    "\n",
    "1. `save_format` argument: Set the value to `save_format=\"tf\"` or `save_format=\"h5\"`.\n",
    "2. `path` argument: If the path ends with `.h5` or `.hdf5`,\n",
    "then the HDF5 format is used. Other suffixes will result in a TensorFlow\n",
    "checkpoint unless `save_format` is set.\n",
    "\n",
    "There is also an option of retrieving weights as in-memory numpy arrays.\n",
    "Each API has its pros and cons which are detailed below."
   ]
  },
  {
   "cell_type": "markdown",
   "metadata": {
    "id": "01fb4134c3c2"
   },
   "source": [
    "### TF Checkpoint format\n",
    "\n",
    "**Example:**"
   ]
  },
  {
   "cell_type": "code",
   "execution_count": 18,
   "metadata": {
    "execution": {
     "iopub.execute_input": "2020-10-02T16:38:48.578313Z",
     "iopub.status.busy": "2020-10-02T16:38:48.577525Z",
     "iopub.status.idle": "2020-10-02T16:38:48.611230Z",
     "shell.execute_reply": "2020-10-02T16:38:48.611616Z"
    },
    "id": "abbd79695980"
   },
   "outputs": [
    {
     "data": {
      "text/plain": [
       "<tensorflow.python.training.tracking.util.CheckpointLoadStatus at 0x7f103069d828>"
      ]
     },
     "execution_count": 1,
     "metadata": {},
     "output_type": "execute_result"
    }
   ],
   "source": [
    "# Runnable example\n",
    "sequential_model = keras.Sequential(\n",
    "    [\n",
    "        keras.Input(shape=(784,), name=\"digits\"),\n",
    "        keras.layers.Dense(64, activation=\"relu\", name=\"dense_1\"),\n",
    "        keras.layers.Dense(64, activation=\"relu\", name=\"dense_2\"),\n",
    "        keras.layers.Dense(10, name=\"predictions\"),\n",
    "    ]\n",
    ")\n",
    "sequential_model.save_weights(\"ckpt\")\n",
    "load_status = sequential_model.load_weights(\"ckpt\")\n",
    "\n",
    "# `assert_consumed` can be used as validation that all variable values have been\n",
    "# restored from the checkpoint. See `tf.train.Checkpoint.restore` for other\n",
    "# methods in the Status object.\n",
    "load_status.assert_consumed()"
   ]
  },
  {
   "cell_type": "markdown",
   "metadata": {
    "id": "160774248d82"
   },
   "source": [
    "#### Format details\n",
    "\n",
    "The TensorFlow Checkpoint format saves and restores the weights using\n",
    "object attribute names. For instance, consider the `tf.keras.layers.Dense` layer.\n",
    "The layer contains two weights: `dense.kernel` and `dense.bias`.\n",
    "When the layer is saved to the `tf` format, the resulting checkpoint contains the keys\n",
    "`\"kernel\"` and `\"bias\"` and their corresponding weight values.\n",
    "For more information see\n",
    "[\"Loading mechanics\" in the TF Checkpoint guide](https://www.tensorflow.org/guide/checkpoint#loading_mechanics).\n",
    "\n",
    "Note that attribute/graph edge is named after **the name used in parent object,\n",
    "not the name of the variable**. Consider the `CustomLayer` in the example below.\n",
    "The variable `CustomLayer.var` is saved with `\"var\"` as part of key, not `\"var_a\"`."
   ]
  },
  {
   "cell_type": "code",
   "execution_count": 19,
   "metadata": {
    "execution": {
     "iopub.execute_input": "2020-10-02T16:38:48.617072Z",
     "iopub.status.busy": "2020-10-02T16:38:48.616486Z",
     "iopub.status.idle": "2020-10-02T16:38:48.630606Z",
     "shell.execute_reply": "2020-10-02T16:38:48.630982Z"
    },
    "id": "f77c2cb05abc"
   },
   "outputs": [
    {
     "data": {
      "text/plain": [
       "{'save_counter/.ATTRIBUTES/VARIABLE_VALUE': tf.int64,\n",
       " '_CHECKPOINTABLE_OBJECT_GRAPH': tf.string,\n",
       " 'layer/var/.ATTRIBUTES/VARIABLE_VALUE': tf.int32}"
      ]
     },
     "execution_count": 1,
     "metadata": {},
     "output_type": "execute_result"
    }
   ],
   "source": [
    "class CustomLayer(keras.layers.Layer):\n",
    "    def __init__(self, a):\n",
    "        self.var = tf.Variable(a, name=\"var_a\")\n",
    "\n",
    "\n",
    "layer = CustomLayer(5)\n",
    "layer_ckpt = tf.train.Checkpoint(layer=layer).save(\"custom_layer\")\n",
    "\n",
    "ckpt_reader = tf.train.load_checkpoint(layer_ckpt)\n",
    "\n",
    "ckpt_reader.get_variable_to_dtype_map()"
   ]
  },
  {
   "cell_type": "markdown",
   "metadata": {
    "id": "8d49652a9106"
   },
   "source": [
    "#### Transfer learning example\n",
    "\n",
    "Essentially, as long as two models have the same architecture,\n",
    "they are able to share the same checkpoint.\n",
    "\n",
    "**Example:**"
   ]
  },
  {
   "cell_type": "code",
   "execution_count": 20,
   "metadata": {
    "execution": {
     "iopub.execute_input": "2020-10-02T16:38:48.644734Z",
     "iopub.status.busy": "2020-10-02T16:38:48.644152Z",
     "iopub.status.idle": "2020-10-02T16:38:48.751681Z",
     "shell.execute_reply": "2020-10-02T16:38:48.751240Z"
    },
    "id": "95b270d038e8"
   },
   "outputs": [
    {
     "name": "stdout",
     "output_type": "stream",
     "text": [
      "Model: \"pretrained_model\"\n",
      "_________________________________________________________________\n",
      "Layer (type)                 Output Shape              Param #   \n",
      "=================================================================\n",
      "digits (InputLayer)          [(None, 784)]             0         \n",
      "_________________________________________________________________\n",
      "dense_1 (Dense)              (None, 64)                50240     \n",
      "_________________________________________________________________\n",
      "dense_2 (Dense)              (None, 64)                4160      \n",
      "=================================================================\n",
      "Total params: 54,400\n",
      "Trainable params: 54,400\n",
      "Non-trainable params: 0\n",
      "_________________________________________________________________\n",
      "\n",
      " --------------------------------------------------\n",
      "Model: \"new_model\"\n",
      "_________________________________________________________________\n",
      "Layer (type)                 Output Shape              Param #   \n",
      "=================================================================\n",
      "digits (InputLayer)          [(None, 784)]             0         \n",
      "_________________________________________________________________\n",
      "dense_1 (Dense)              (None, 64)                50240     \n",
      "_________________________________________________________________\n",
      "dense_2 (Dense)              (None, 64)                4160      \n",
      "_________________________________________________________________\n",
      "predictions (Dense)          (None, 5)                 325       \n",
      "=================================================================\n",
      "Total params: 54,725\n",
      "Trainable params: 54,725\n",
      "Non-trainable params: 0\n",
      "_________________________________________________________________\n",
      "Model: \"sequential_3\"\n",
      "_________________________________________________________________\n",
      "Layer (type)                 Output Shape              Param #   \n",
      "=================================================================\n",
      "pretrained (Functional)      (None, 64)                54400     \n",
      "_________________________________________________________________\n",
      "predictions (Dense)          (None, 5)                 325       \n",
      "=================================================================\n",
      "Total params: 54,725\n",
      "Trainable params: 54,725\n",
      "Non-trainable params: 0\n",
      "_________________________________________________________________\n"
     ]
    },
    {
     "data": {
      "text/plain": [
       "<tensorflow.python.training.tracking.util.CheckpointLoadStatus at 0x7f103066e630>"
      ]
     },
     "execution_count": 1,
     "metadata": {},
     "output_type": "execute_result"
    }
   ],
   "source": [
    "inputs = keras.Input(shape=(784,), name=\"digits\")\n",
    "x = keras.layers.Dense(64, activation=\"relu\", name=\"dense_1\")(inputs)\n",
    "x = keras.layers.Dense(64, activation=\"relu\", name=\"dense_2\")(x)\n",
    "outputs = keras.layers.Dense(10, name=\"predictions\")(x)\n",
    "functional_model = keras.Model(inputs=inputs, outputs=outputs, name=\"3_layer_mlp\")\n",
    "\n",
    "# Extract a portion of the functional model defined in the Setup section.\n",
    "# The following lines produce a new model that excludes the final output\n",
    "# layer of the functional model.\n",
    "pretrained = keras.Model(\n",
    "    functional_model.inputs, functional_model.layers[-1].input, name=\"pretrained_model\"\n",
    ")\n",
    "# Randomly assign \"trained\" weights.\n",
    "for w in pretrained.weights:\n",
    "    w.assign(tf.random.normal(w.shape))\n",
    "pretrained.save_weights(\"pretrained_ckpt\")\n",
    "pretrained.summary()\n",
    "\n",
    "# Assume this is a separate program where only 'pretrained_ckpt' exists.\n",
    "# Create a new functional model with a different output dimension.\n",
    "inputs = keras.Input(shape=(784,), name=\"digits\")\n",
    "x = keras.layers.Dense(64, activation=\"relu\", name=\"dense_1\")(inputs)\n",
    "x = keras.layers.Dense(64, activation=\"relu\", name=\"dense_2\")(x)\n",
    "outputs = keras.layers.Dense(5, name=\"predictions\")(x)\n",
    "model = keras.Model(inputs=inputs, outputs=outputs, name=\"new_model\")\n",
    "\n",
    "# Load the weights from pretrained_ckpt into model.\n",
    "model.load_weights(\"pretrained_ckpt\")\n",
    "\n",
    "# Check that all of the pretrained weights have been loaded.\n",
    "for a, b in zip(pretrained.weights, model.weights):\n",
    "    np.testing.assert_allclose(a.numpy(), b.numpy())\n",
    "\n",
    "print(\"\\n\", \"-\" * 50)\n",
    "model.summary()\n",
    "\n",
    "# Example 2: Sequential model\n",
    "# Recreate the pretrained model, and load the saved weights.\n",
    "inputs = keras.Input(shape=(784,), name=\"digits\")\n",
    "x = keras.layers.Dense(64, activation=\"relu\", name=\"dense_1\")(inputs)\n",
    "x = keras.layers.Dense(64, activation=\"relu\", name=\"dense_2\")(x)\n",
    "pretrained_model = keras.Model(inputs=inputs, outputs=x, name=\"pretrained\")\n",
    "\n",
    "# Sequential example:\n",
    "model = keras.Sequential([pretrained_model, keras.layers.Dense(5, name=\"predictions\")])\n",
    "model.summary()\n",
    "\n",
    "pretrained_model.load_weights(\"pretrained_ckpt\")\n",
    "\n",
    "# Warning! Calling `model.load_weights('pretrained_ckpt')` won't throw an error,\n",
    "# but will *not* work as expected. If you inspect the weights, you'll see that\n",
    "# none of the weights will have loaded. `pretrained_model.load_weights()` is the\n",
    "# correct method to call."
   ]
  },
  {
   "cell_type": "markdown",
   "metadata": {
    "id": "32a55c2b9430"
   },
   "source": [
    "It is generally recommended to stick to the same API for building models. If you\n",
    "switch between Sequential and Functional, or Functional and subclassed,\n",
    "etc., then always rebuild the pre-trained model and load the pre-trained\n",
    "weights to that model."
   ]
  },
  {
   "cell_type": "markdown",
   "metadata": {
    "id": "7d75461f527f"
   },
   "source": [
    "The next question is, how can weights be saved and loaded to different models\n",
    "if the model architectures are quite different?\n",
    "The solution is to use `tf.train.Checkpoint` to save and restore the exact layers/variables.\n",
    "\n",
    "**Example:**"
   ]
  },
  {
   "cell_type": "code",
   "execution_count": 21,
   "metadata": {
    "execution": {
     "iopub.execute_input": "2020-10-02T16:38:48.759145Z",
     "iopub.status.busy": "2020-10-02T16:38:48.758516Z",
     "iopub.status.idle": "2020-10-02T16:38:48.783919Z",
     "shell.execute_reply": "2020-10-02T16:38:48.784282Z"
    },
    "id": "cf634d8db6cc"
   },
   "outputs": [
    {
     "name": "stdout",
     "output_type": "stream",
     "text": [
      "WARNING:tensorflow:From <ipython-input-1-eec1d28bc826>:15: Layer.add_variable (from tensorflow.python.keras.engine.base_layer) is deprecated and will be removed in a future version.\n",
      "Instructions for updating:\n",
      "Please use `layer.add_weight` method instead.\n"
     ]
    },
    {
     "data": {
      "text/plain": [
       "<tensorflow.python.training.tracking.util.CheckpointLoadStatus at 0x7f10306c6518>"
      ]
     },
     "execution_count": 1,
     "metadata": {},
     "output_type": "execute_result"
    }
   ],
   "source": [
    "# Create a subclassed model that essentially uses functional_model's first\n",
    "# and last layers.\n",
    "# First, save the weights of functional_model's first and last dense layers.\n",
    "first_dense = functional_model.layers[1]\n",
    "last_dense = functional_model.layers[-1]\n",
    "ckpt_path = tf.train.Checkpoint(\n",
    "    dense=first_dense, kernel=last_dense.kernel, bias=last_dense.bias\n",
    ").save(\"ckpt\")\n",
    "\n",
    "# Define the subclassed model.\n",
    "class ContrivedModel(keras.Model):\n",
    "    def __init__(self):\n",
    "        super(ContrivedModel, self).__init__()\n",
    "        self.first_dense = keras.layers.Dense(64)\n",
    "        self.kernel = self.add_variable(\"kernel\", shape=(64, 10))\n",
    "        self.bias = self.add_variable(\"bias\", shape=(10,))\n",
    "\n",
    "    def call(self, inputs):\n",
    "        x = self.first_dense(inputs)\n",
    "        return tf.matmul(x, self.kernel) + self.bias\n",
    "\n",
    "\n",
    "model = ContrivedModel()\n",
    "# Call model on inputs to create the variables of the dense layer.\n",
    "_ = model(tf.ones((1, 784)))\n",
    "\n",
    "# Create a Checkpoint with the same structure as before, and load the weights.\n",
    "tf.train.Checkpoint(\n",
    "    dense=model.first_dense, kernel=model.kernel, bias=model.bias\n",
    ").restore(ckpt_path).assert_consumed()"
   ]
  },
  {
   "cell_type": "markdown",
   "metadata": {
    "id": "577a6251b115"
   },
   "source": [
    "### HDF5 format\n",
    "\n",
    "The HDF5 format contains weights grouped by layer names.\n",
    "The weights are lists ordered by concatenating the list of trainable weights\n",
    "to the list of non-trainable weights (same as `layer.weights`).\n",
    "Thus, a model can use a hdf5 checkpoint if it has the same layers and trainable\n",
    "statuses as saved in the checkpoint.\n",
    "\n",
    "**Example:**"
   ]
  },
  {
   "cell_type": "code",
   "execution_count": 22,
   "metadata": {
    "execution": {
     "iopub.execute_input": "2020-10-02T16:38:48.793849Z",
     "iopub.status.busy": "2020-10-02T16:38:48.793145Z",
     "iopub.status.idle": "2020-10-02T16:38:48.823514Z",
     "shell.execute_reply": "2020-10-02T16:38:48.823017Z"
    },
    "id": "56dff373e74a"
   },
   "outputs": [],
   "source": [
    "# Runnable example\n",
    "sequential_model = keras.Sequential(\n",
    "    [\n",
    "        keras.Input(shape=(784,), name=\"digits\"),\n",
    "        keras.layers.Dense(64, activation=\"relu\", name=\"dense_1\"),\n",
    "        keras.layers.Dense(64, activation=\"relu\", name=\"dense_2\"),\n",
    "        keras.layers.Dense(10, name=\"predictions\"),\n",
    "    ]\n",
    ")\n",
    "sequential_model.save_weights(\"weights.h5\")\n",
    "sequential_model.load_weights(\"weights.h5\")"
   ]
  },
  {
   "cell_type": "markdown",
   "metadata": {
    "id": "60d8185d803d"
   },
   "source": [
    "Note that changing `layer.trainable` may result in a different\n",
    "`layer.weights` ordering when the model contains nested layers."
   ]
  },
  {
   "cell_type": "code",
   "execution_count": 23,
   "metadata": {
    "execution": {
     "iopub.execute_input": "2020-10-02T16:38:48.834773Z",
     "iopub.status.busy": "2020-10-02T16:38:48.834048Z",
     "iopub.status.idle": "2020-10-02T16:38:48.870976Z",
     "shell.execute_reply": "2020-10-02T16:38:48.871336Z"
    },
    "id": "573c5a9cd489"
   },
   "outputs": [
    {
     "name": "stdout",
     "output_type": "stream",
     "text": [
      "variables: ['nested/dense_1/kernel:0', 'nested/dense_1/bias:0', 'nested/dense_2/kernel:0', 'nested/dense_2/bias:0']\n",
      "\n",
      "Changing trainable status of one of the nested layers...\n",
      "\n",
      "variables: ['nested/dense_2/kernel:0', 'nested/dense_2/bias:0', 'nested/dense_1/kernel:0', 'nested/dense_1/bias:0']\n",
      "variable ordering changed: True\n"
     ]
    }
   ],
   "source": [
    "class NestedDenseLayer(keras.layers.Layer):\n",
    "    def __init__(self, units, name=None):\n",
    "        super(NestedDenseLayer, self).__init__(name=name)\n",
    "        self.dense_1 = keras.layers.Dense(units, name=\"dense_1\")\n",
    "        self.dense_2 = keras.layers.Dense(units, name=\"dense_2\")\n",
    "\n",
    "    def call(self, inputs):\n",
    "        return self.dense_2(self.dense_1(inputs))\n",
    "\n",
    "\n",
    "nested_model = keras.Sequential([keras.Input((784,)), NestedDenseLayer(10, \"nested\")])\n",
    "variable_names = [v.name for v in nested_model.weights]\n",
    "print(\"variables: {}\".format(variable_names))\n",
    "\n",
    "print(\"\\nChanging trainable status of one of the nested layers...\")\n",
    "nested_model.get_layer(\"nested\").dense_1.trainable = False\n",
    "\n",
    "variable_names_2 = [v.name for v in nested_model.weights]\n",
    "print(\"\\nvariables: {}\".format(variable_names_2))\n",
    "print(\"variable ordering changed:\", variable_names != variable_names_2)"
   ]
  },
  {
   "cell_type": "markdown",
   "metadata": {
    "id": "9e8934a16393"
   },
   "source": [
    "#### Transfer learning example\n",
    "\n",
    "When loading pretrained weights from HDF5, it is recommended to load\n",
    "the weights into the original checkpointed model, and then extract\n",
    "the desired weights/layers into a new model.\n",
    "\n",
    "**Example:**"
   ]
  },
  {
   "cell_type": "code",
   "execution_count": 24,
   "metadata": {
    "execution": {
     "iopub.execute_input": "2020-10-02T16:38:48.879574Z",
     "iopub.status.busy": "2020-10-02T16:38:48.878926Z",
     "iopub.status.idle": "2020-10-02T16:38:48.946036Z",
     "shell.execute_reply": "2020-10-02T16:38:48.945583Z"
    },
    "id": "eb22a5e3d192"
   },
   "outputs": [
    {
     "name": "stdout",
     "output_type": "stream",
     "text": [
      "Model: \"sequential_6\"\n",
      "_________________________________________________________________\n",
      "Layer (type)                 Output Shape              Param #   \n",
      "=================================================================\n",
      "dense_1 (Dense)              (None, 64)                50240     \n",
      "_________________________________________________________________\n",
      "dense_2 (Dense)              (None, 64)                4160      \n",
      "_________________________________________________________________\n",
      "dense_3 (Dense)              (None, 5)                 325       \n",
      "=================================================================\n",
      "Total params: 54,725\n",
      "Trainable params: 54,725\n",
      "Non-trainable params: 0\n",
      "_________________________________________________________________\n"
     ]
    }
   ],
   "source": [
    "def create_functional_model():\n",
    "    inputs = keras.Input(shape=(784,), name=\"digits\")\n",
    "    x = keras.layers.Dense(64, activation=\"relu\", name=\"dense_1\")(inputs)\n",
    "    x = keras.layers.Dense(64, activation=\"relu\", name=\"dense_2\")(x)\n",
    "    outputs = keras.layers.Dense(10, name=\"predictions\")(x)\n",
    "    return keras.Model(inputs=inputs, outputs=outputs, name=\"3_layer_mlp\")\n",
    "\n",
    "\n",
    "functional_model = create_functional_model()\n",
    "functional_model.save_weights(\"pretrained_weights.h5\")\n",
    "\n",
    "# In a separate program:\n",
    "pretrained_model = create_functional_model()\n",
    "pretrained_model.load_weights(\"pretrained_weights.h5\")\n",
    "\n",
    "# Create a new model by extracting layers from the original model:\n",
    "extracted_layers = pretrained_model.layers[:-1]\n",
    "extracted_layers.append(keras.layers.Dense(5, name=\"dense_3\"))\n",
    "model = keras.Sequential(extracted_layers)\n",
    "model.summary()"
   ]
  }
 ],
 "metadata": {
  "colab": {
   "collapsed_sections": [],
   "name": "save_and_serialize.ipynb",
   "toc_visible": true
  },
  "kernelspec": {
   "display_name": "Python 3",
   "name": "python3"
  },
  "language_info": {
   "codemirror_mode": {
    "name": "ipython",
    "version": 3
   },
   "file_extension": ".py",
   "mimetype": "text/x-python",
   "name": "python",
   "nbconvert_exporter": "python",
   "pygments_lexer": "ipython3",
   "version": "3.6.9"
  }
 },
 "nbformat": 4,
 "nbformat_minor": 0
}
